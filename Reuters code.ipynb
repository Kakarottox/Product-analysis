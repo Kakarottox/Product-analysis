{
 "cells": [
  {
   "cell_type": "code",
   "execution_count": 1,
   "metadata": {},
   "outputs": [],
   "source": [
    "import bs4 as bs\n",
    "import textblob\n",
    "import matplotlib.pyplot as plt\n",
    "import seaborn as sns\n",
    "import re\n",
    "import urllib.request    "
   ]
  },
  {
   "cell_type": "code",
   "execution_count": 2,
   "metadata": {},
   "outputs": [
    {
     "name": "stdout",
     "output_type": "stream",
     "text": [
      "<title>\n",
      "                Coffee prices seen rising nearly 25 percent by year-end: Reuters poll - Reuters</title>\n"
     ]
    }
   ],
   "source": [
    "source = urllib.request.urlopen('https://www.reuters.com/article/us-global-coffee-poll/coffee-prices-seen-rising-nearly-25-percent-by-year-end-reuters-poll-idUSKCN1Q11JD').read()\n",
    "soup = bs.BeautifulSoup(source,'lxml')\n",
    "# title of the page\n",
    "print(soup.title)"
   ]
  },
  {
   "cell_type": "code",
   "execution_count": 3,
   "metadata": {},
   "outputs": [
    {
     "name": "stdout",
     "output_type": "stream",
     "text": [
      "title\n"
     ]
    }
   ],
   "source": [
    "# get attributes:\n",
    "print(soup.title.name)"
   ]
  },
  {
   "cell_type": "code",
   "execution_count": 4,
   "metadata": {},
   "outputs": [
    {
     "name": "stdout",
     "output_type": "stream",
     "text": [
      "\n",
      "                Coffee prices seen rising nearly 25 percent by year-end: Reuters poll - Reuters\n"
     ]
    }
   ],
   "source": [
    "# get values:\n",
    "print(soup.title.string)"
   ]
  },
  {
   "cell_type": "code",
   "execution_count": 5,
   "metadata": {},
   "outputs": [
    {
     "name": "stdout",
     "output_type": "stream",
     "text": [
      "head\n"
     ]
    }
   ],
   "source": [
    "# beginning navigation:\n",
    "print(soup.title.parent.name)"
   ]
  },
  {
   "cell_type": "code",
   "execution_count": 6,
   "metadata": {},
   "outputs": [
    {
     "name": "stdout",
     "output_type": "stream",
     "text": [
      "3 Min Read\n",
      "NEW YORK (Reuters) - Arabica coffee prices will rise nearly 20 percent by the end of 2019 as Brazil’s shift to an off-year in its biennial production cycle helps swing the world into a global deficit, a Reuters poll of nine traders and analysts showed on Tuesday. \n",
      "The survey participants anticipate a global deficit of 1 million 60-kg bags in 2019/20, according to the median forecast, compared to estimates of a 4.25 million-bag surplus for 2018/19.  \n",
      "Tightening global supplies in the coming season are expected to lift arabica prices to $1.25 per pound by the end of 2019, 24.8 percent above Monday’s close. \n",
      "“Arabica prices should find some support by the fact that 2019/20 is set to be an ‘off year’ output in Brazil,” said Caroline Bain, analyst at Capital Economics.  \n",
      "Respondents expect the 2019/20 crop for top producer Brazil at a median 55 million bags, little changed from previous forecasts.  \n",
      "This represents a decline of about 8.3 percent from the record 2018/19 crop, whose massive size helped push arabica prices to a nearly 13-year low of 92 cents per lb on Sept. 18.  Prices have since languished near those levels, which are far below the cost of production in many countries. This has forced some growers to invest less in their farms, which, one analyst said, would start translating to diminished global output in 2019/20. \n",
      "The performance of the Brazilian real is also expected to continue influencing arabica futures.  \n",
      "Arabica prices firmed alongside the real in the weeks before the Brazilian presidential election in October, and continue to track the currency’s performance. A stronger real can discourage producer selling of dollar-denominated commodities like coffee.  \n",
      "Analysts are also keeping a close eye on Brazilian policy, especially the potential for new minimum purchase prices or safety nets for the country’s coffee farmers. Such mechanisms “could help support the market and also remove exportable supplies from the world market,” said Shawn Hackett, president of Hackett Financial Advisors. \n",
      "The overall outlook is somewhat similar for robusta beans, primarily used for instant coffee or added to blends as a cheaper ingredient. Robusta prices are expected to rise to $1,775 per tonne by the end of 2019, a 16 percent increase from Monday’s close, according to the poll. \n",
      "Production in Vietnam, the world’s biggest grower of the varietal, was pegged at 29.75 million bags in 2019/20, largely on par with production estimates for 2018/19. \n",
      "“Demand should be more than enough to absorb high robusta output, as the market for instant coffee expands into emerging markets,” said Bain of Capital Economics. \n",
      "Reporting by Ayenat Mersie; Editing by Sandra Maler\n",
      "All quotes delayed a minimum of 15 minutes. See here for a complete list of exchanges and delays.\n",
      "© 2019 Reuters. All Rights Reserved.\n"
     ]
    }
   ],
   "source": [
    "for Pr in soup.find_all('p'):\n",
    "    # print(paragraph.string)\n",
    "    Pr = str(Pr.text)\n",
    "    print(Pr)"
   ]
  },
  {
   "cell_type": "code",
   "execution_count": 14,
   "metadata": {},
   "outputs": [
    {
     "name": "stdout",
     "output_type": "stream",
     "text": [
      "3 Min Read\n",
      "Neutral\n",
      " \n",
      "NEW YORK (Reuters) - Arabica coffee prices will rise nearly 20 percent by the end of 2019 as Brazil’s shift to an off-year in its biennial production cycle helps swing the world into a global deficit, a Reuters poll of nine traders and analysts showed on Tuesday. \n",
      "positive\n",
      " \n",
      "The survey participants anticipate a global deficit of 1 million 60-kg bags in 2019/20, according to the median forecast, compared to estimates of a 4.25 million-bag surplus for 2018/19.  \n",
      "Neutral\n",
      " \n",
      "Tightening global supplies in the coming season are expected to lift arabica prices to $1.25 per pound by the end of 2019, 24.8 percent above Monday’s close. \n",
      "negative\n",
      " \n",
      "“Arabica prices should find some support by the fact that 2019/20 is set to be an ‘off year’ output in Brazil,” said Caroline Bain, analyst at Capital Economics.  \n",
      "Neutral\n",
      " \n",
      "Respondents expect the 2019/20 crop for top producer Brazil at a median 55 million bags, little changed from previous forecasts.  \n",
      "positive\n",
      " \n",
      "This represents a decline of about 8.3 percent from the record 2018/19 crop, whose massive size helped push arabica prices to a nearly 13-year low of 92 cents per lb on Sept. 18.  Prices have since languished near those levels, which are far below the cost of production in many countries. This has forced some growers to invest less in their farms, which, one analyst said, would start translating to diminished global output in 2019/20. \n",
      "positive\n",
      " \n",
      "The performance of the Brazilian real is also expected to continue influencing arabica futures.  \n",
      "positive\n",
      " \n",
      "Arabica prices firmed alongside the real in the weeks before the Brazilian presidential election in October, and continue to track the currency’s performance. A stronger real can discourage producer selling of dollar-denominated commodities like coffee.  \n",
      "positive\n",
      " \n",
      "Analysts are also keeping a close eye on Brazilian policy, especially the potential for new minimum purchase prices or safety nets for the country’s coffee farmers. Such mechanisms “could help support the market and also remove exportable supplies from the world market,” said Shawn Hackett, president of Hackett Financial Advisors. \n",
      "positive\n",
      " \n",
      "The overall outlook is somewhat similar for robusta beans, primarily used for instant coffee or added to blends as a cheaper ingredient. Robusta prices are expected to rise to $1,775 per tonne by the end of 2019, a 16 percent increase from Monday’s close, according to the poll. \n",
      "positive\n",
      " \n",
      "Production in Vietnam, the world’s biggest grower of the varietal, was pegged at 29.75 million bags in 2019/20, largely on par with production estimates for 2018/19. \n",
      "positive\n",
      " \n",
      "“Demand should be more than enough to absorb high robusta output, as the market for instant coffee expands into emerging markets,” said Bain of Capital Economics. \n",
      "positive\n",
      " \n",
      "Reporting by Ayenat Mersie; Editing by Sandra Maler\n",
      "Neutral\n",
      " \n",
      "All quotes delayed a minimum of 15 minutes. See here for a complete list of exchanges and delays.\n",
      "positive\n",
      " \n",
      "© 2019 Reuters. All Rights Reserved.\n",
      "Neutral\n",
      " \n"
     ]
    }
   ],
   "source": [
    "Paragraph_data = \"\"\n",
    "sentiment=[]\n",
    "for Pr in soup.find_all('p'):\n",
    "    Pr = Pr.text\n",
    "    Pr = re.sub('[h]+[t]+[t]+[p]+[a-z0-9A-Z./:]+','',Pr) # removing url\n",
    "    print(Pr)\n",
    "    Paragraph_data = Paragraph_data+' '+Pr\n",
    "    Pr = textblob.TextBlob(Pr)\n",
    "    if Pr.sentiment.polarity>0.01:\n",
    "        print(\"positive\")\n",
    "        sentiment.append(\"positive\")\n",
    "    elif Pr.sentiment.polarity<-0.01:\n",
    "        print(\"negative\")\n",
    "        sentiment.append(\"negative\")\n",
    "    else:\n",
    "        print(\"Neutral\")\n",
    "        sentiment.append(\"neutral\")\n",
    "    print(\" \")"
   ]
  },
  {
   "cell_type": "code",
   "execution_count": 8,
   "metadata": {},
   "outputs": [
    {
     "data": {
      "image/png": "[encoded data removed]",
      "text/plain": [
       "<Figure size 432x288 with 1 Axes>"
      ]
     },
     "metadata": {
      "needs_background": "light"
     },
     "output_type": "display_data"
    }
   ],
   "source": [
    "sns.countplot(sentiment)\n",
    "plt.savefig('static/plot2.jpg')\n",
    "plt.show()"
   ]
  },
  {
   "cell_type": "code",
   "execution_count": 9,
   "metadata": {},
   "outputs": [],
   "source": [
    "# pip install wordcloud\n",
    "import wordcloud\n",
    "wd = wordcloud.WordCloud(max_words=10).generate_from_text(Paragraph_data)"
   ]
  },
  {
   "cell_type": "code",
   "execution_count": 10,
   "metadata": {},
   "outputs": [
    {
     "data": {
      "image/png": "[encoded data removed]",
      "text/plain": [
       "<Figure size 432x288 with 1 Axes>"
      ]
     },
     "metadata": {
      "needs_background": "light"
     },
     "output_type": "display_data"
    }
   ],
   "source": [
    "plt.imshow(wd)\n",
    "plt.savefig('static/wordcloud2.jpg')\n",
    "plt.show()"
   ]
  },
  {
   "cell_type": "markdown",
   "metadata": {},
   "source": [
    "# my code"
   ]
  },
  {
   "cell_type": "markdown",
   "metadata": {},
   "source": [
    "fnfhn"
   ]
  },
  {
   "cell_type": "code",
   "execution_count": null,
   "metadata": {},
   "outputs": [],
   "source": []
  }
 ],
 "metadata": {
  "kernelspec": {
   "display_name": "Python 3",
   "language": "python",
   "name": "python3"
  },
  "language_info": {
   "codemirror_mode": {
    "name": "ipython",
    "version": 3
   },
   "file_extension": ".py",
   "mimetype": "text/x-python",
   "name": "python",
   "nbconvert_exporter": "python",
   "pygments_lexer": "ipython3",
   "version": "3.7.1"
  }
 },
 "nbformat": 4,
 "nbformat_minor": 2
}
