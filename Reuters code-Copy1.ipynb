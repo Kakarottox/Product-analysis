{
 "cells": [
  {
   "cell_type": "code",
   "execution_count": 1,
   "metadata": {},
   "outputs": [],
   "source": [
    "import bs4 as bs\n",
    "import textblob\n",
    "import matplotlib.pyplot as plt\n",
    "import seaborn as sns\n",
    "import re\n",
    "import urllib.request    "
   ]
  },
  {
   "cell_type": "code",
   "execution_count": 2,
   "metadata": {},
   "outputs": [
    {
     "name": "stdout",
     "output_type": "stream",
     "text": [
      "<title>\n",
      "                Oil hits 2019 high on U.S. plan to tighten squeeze on Iran - Reuters</title>\n"
     ]
    }
   ],
   "source": [
    "source = urllib.request.urlopen('https://www.reuters.com/article/us-global-oil/oil-prices-climb-as-u-s-set-to-end-iran-sanction-waivers-idUSKCN1RY00J').read()\n",
    "soup = bs.BeautifulSoup(source,'lxml')\n",
    "# title of the page\n",
    "print(soup.title)"
   ]
  },
  {
   "cell_type": "code",
   "execution_count": 3,
   "metadata": {},
   "outputs": [
    {
     "name": "stdout",
     "output_type": "stream",
     "text": [
      "title\n"
     ]
    }
   ],
   "source": [
    "# get attributes:\n",
    "print(soup.title.name)"
   ]
  },
  {
   "cell_type": "code",
   "execution_count": 4,
   "metadata": {},
   "outputs": [
    {
     "name": "stdout",
     "output_type": "stream",
     "text": [
      "\n",
      "                Oil hits 2019 high on U.S. plan to tighten squeeze on Iran - Reuters\n"
     ]
    }
   ],
   "source": [
    "# get values:\n",
    "print(soup.title.string)"
   ]
  },
  {
   "cell_type": "code",
   "execution_count": 5,
   "metadata": {},
   "outputs": [
    {
     "name": "stdout",
     "output_type": "stream",
     "text": [
      "head\n"
     ]
    }
   ],
   "source": [
    "# beginning navigation:\n",
    "print(soup.title.parent.name)"
   ]
  },
  {
   "cell_type": "code",
   "execution_count": 6,
   "metadata": {},
   "outputs": [
    {
     "name": "stdout",
     "output_type": "stream",
     "text": [
      "3 Min Read\n",
      "NEW YORK (Reuters) - Oil prices jumped more than 2 percent on Monday to a near six-month high, on growing concern about tight global supplies after the United States announced a further clampdown on Iranian oil exports. \n",
      "Washington said it will eliminate in May all waivers allowing eight economies to buy Iranian oil without facing U.S. sanctions. \n",
      "“The geopolitical risk premium is back in the oil market, in a big way,” said John Kilduff, a partner at Again Capital LLC in New York. “Most, if not all, legitimate commercial interests will avoid Iran oil purchases. Iran’s flow will be reduced to a trickle.” \n",
      "Brent crude futures  rose $1.77, or 2.5 percent, to $73.74 a barrel by 11:02 a.m. EDT (1502 GMT). The session high of $74.31 a barrel for the international benchmark was the highest since Nov. 1. \n",
      "U.S. West Texas Intermediate crude futures  climbed $1.37, or 2.1 percent, to $65.37 a barrel. The contract hit $65.87 a barrel, the highest since Oct. 31. \n",
      "In November, the United States reimposed sanctions on exports of Iranian oil but granted waivers to Iran’s eight main buyers: China, India, Japan, South Korea, Taiwan, Turkey, Italy and Greece. They were allowed to keep making limited purchases for six months. \n",
      "U.S. Secretary of State Mike Pompeo reiterated that Washington’s goal was to bring down exports of Iranian oil to zero and said there were no plans for a grace period beyond May 1. \n",
      "Iran said the decision not to renew the waivers has “no value” but Tehran was in touch with European partners and neighbors and would “act accordingly,” Iranian news agencies reported, citing the Foreign Ministry. \n",
      "Another drop in Iranian exports would further squeeze supply in a tight market. The United States has also sanctioned OPEC member Venezuela, and the Organization of the Petroleum Exporting Countries and allied producers including Russia have voluntarily cut output, which has helped raise oil prices more than 35 percent so far this year. \n",
      "Iran’s biggest oil customers are China and India, and an end to the exemptions would hit Asian buyers hardest. India hopes Washington will allow allies to keep buying some Iranian oil instead of halting the purchases altogether from May, a source familiar with U.S.-India talks said. [nD8N1SH059] \n",
      "Trump said Saudi Arabia and other OPEC nations could “more than make up” for any drop in Iranian oil supplies.   \n",
      "Saudi Arabia said it would coordinate with other producers to ensure an adequate crude supply and a balanced market. \n",
      "Analysts at JBC Energy in Vienna said a Saudi supply boost was likely. \n",
      "“It is now almost certain that additional volumes from Saudi Arabia from May onwards will come back into the market,” JBC said in a report. \n",
      "Additional reporting by Alex Lawler in London and Henning Gloystein in Singapore; Editing by Kirsten Donovan, Louise Heavens and David Gregorio\n",
      "All quotes delayed a minimum of 15 minutes. See here for a complete list of exchanges and delays.\n",
      "© 2019 Reuters. All Rights Reserved.\n"
     ]
    }
   ],
   "source": [
    "for Pr in soup.find_all('p'):\n",
    "    # print(paragraph.string)\n",
    "    Pr = str(Pr.text)\n",
    "    print(Pr)"
   ]
  },
  {
   "cell_type": "code",
   "execution_count": 7,
   "metadata": {},
   "outputs": [
    {
     "name": "stdout",
     "output_type": "stream",
     "text": [
      "3 Min Read\n",
      "Neutral\n",
      " \n",
      "NEW YORK (Reuters) - Oil prices jumped more than 2 percent on Monday to a near six-month high, on growing concern about tight global supplies after the United States announced a further clampdown on Iranian oil exports. \n",
      "positive\n",
      " \n",
      "Washington said it will eliminate in May all waivers allowing eight economies to buy Iranian oil without facing U.S. sanctions. \n",
      "Neutral\n",
      " \n",
      "“The geopolitical risk premium is back in the oil market, in a big way,” said John Kilduff, a partner at Again Capital LLC in New York. “Most, if not all, legitimate commercial interests will avoid Iran oil purchases. Iran’s flow will be reduced to a trickle.” \n",
      "positive\n",
      " \n",
      "Brent crude futures  rose $1.77, or 2.5 percent, to $73.74 a barrel by 11:02 a.m. EDT (1502 GMT). The session high of $74.31 a barrel for the international benchmark was the highest since Nov. 1. \n",
      "positive\n",
      " \n",
      "U.S. West Texas Intermediate crude futures  climbed $1.37, or 2.1 percent, to $65.37 a barrel. The contract hit $65.87 a barrel, the highest since Oct. 31. \n",
      "negative\n",
      " \n",
      "In November, the United States reimposed sanctions on exports of Iranian oil but granted waivers to Iran’s eight main buyers: China, India, Japan, South Korea, Taiwan, Turkey, Italy and Greece. They were allowed to keep making limited purchases for six months. \n",
      "positive\n",
      " \n",
      "U.S. Secretary of State Mike Pompeo reiterated that Washington’s goal was to bring down exports of Iranian oil to zero and said there were no plans for a grace period beyond May 1. \n",
      "negative\n",
      " \n",
      "Iran said the decision not to renew the waivers has “no value” but Tehran was in touch with European partners and neighbors and would “act accordingly,” Iranian news agencies reported, citing the Foreign Ministry. \n",
      "negative\n",
      " \n",
      "Another drop in Iranian exports would further squeeze supply in a tight market. The United States has also sanctioned OPEC member Venezuela, and the Organization of the Petroleum Exporting Countries and allied producers including Russia have voluntarily cut output, which has helped raise oil prices more than 35 percent so far this year. \n",
      "positive\n",
      " \n",
      "Iran’s biggest oil customers are China and India, and an end to the exemptions would hit Asian buyers hardest. India hopes Washington will allow allies to keep buying some Iranian oil instead of halting the purchases altogether from May, a source familiar with U.S.-India talks said. [nD8N1SH059] \n",
      "positive\n",
      " \n",
      "Trump said Saudi Arabia and other OPEC nations could “more than make up” for any drop in Iranian oil supplies.   \n",
      "positive\n",
      " \n",
      "Saudi Arabia said it would coordinate with other producers to ensure an adequate crude supply and a balanced market. \n",
      "negative\n",
      " \n",
      "Analysts at JBC Energy in Vienna said a Saudi supply boost was likely. \n",
      "Neutral\n",
      " \n",
      "“It is now almost certain that additional volumes from Saudi Arabia from May onwards will come back into the market,” JBC said in a report. \n",
      "positive\n",
      " \n",
      "Additional reporting by Alex Lawler in London and Henning Gloystein in Singapore; Editing by Kirsten Donovan, Louise Heavens and David Gregorio\n",
      "Neutral\n",
      " \n",
      "All quotes delayed a minimum of 15 minutes. See here for a complete list of exchanges and delays.\n",
      "positive\n",
      " \n",
      "© 2019 Reuters. All Rights Reserved.\n",
      "Neutral\n",
      " \n"
     ]
    }
   ],
   "source": [
    "Paragraph_data = \"\"\n",
    "sentiment=[]\n",
    "for Pr in soup.find_all('p'):\n",
    "    Pr = Pr.text\n",
    "    Pr = re.sub('[h]+[t]+[t]+[p]+[a-z0-9A-Z./:]+','',Pr) # removing url\n",
    "    print(Pr)\n",
    "    Paragraph_data = Paragraph_data+' '+Pr\n",
    "    Pr = textblob.TextBlob(Pr)\n",
    "    if Pr.sentiment.polarity>0.01:\n",
    "        print(\"positive\")\n",
    "        sentiment.append(\"positive\")\n",
    "    elif Pr.sentiment.polarity<-0.01:\n",
    "        print(\"negative\")\n",
    "        sentiment.append(\"negative\")\n",
    "    else:\n",
    "        print(\"Neutral\")\n",
    "        sentiment.append(\"neutral\")\n",
    "    print(\" \")"
   ]
  },
  {
   "cell_type": "code",
   "execution_count": 8,
   "metadata": {},
   "outputs": [
    {
     "data": {
      "image/png": "[encoded data removed]",
      "text/plain": [
       "<Figure size 432x288 with 1 Axes>"
      ]
     },
     "metadata": {
      "needs_background": "light"
     },
     "output_type": "display_data"
    }
   ],
   "source": [
    "sns.countplot(sentiment)\n",
    "plt.savefig('static/plot2.jpg')\n",
    "plt.show()"
   ]
  },
  {
   "cell_type": "code",
   "execution_count": 9,
   "metadata": {},
   "outputs": [],
   "source": [
    "# pip install wordcloud\n",
    "import wordcloud\n",
    "wd = wordcloud.WordCloud(max_words=10).generate_from_text(Paragraph_data)"
   ]
  },
  {
   "cell_type": "code",
   "execution_count": 10,
   "metadata": {},
   "outputs": [
    {
     "data": {
      "image/png": "[encoded data removed]",
      "text/plain": [
       "<Figure size 432x288 with 1 Axes>"
      ]
     },
     "metadata": {
      "needs_background": "light"
     },
     "output_type": "display_data"
    }
   ],
   "source": [
    "plt.imshow(wd)\n",
    "plt.savefig('static/wordcloud2.jpg')\n",
    "plt.show()"
   ]
  },
  {
   "cell_type": "markdown",
   "metadata": {},
   "source": [
    "# my code"
   ]
  },
  {
   "cell_type": "markdown",
   "metadata": {},
   "source": [
    "fnfhn"
   ]
  },
  {
   "cell_type": "code",
   "execution_count": null,
   "metadata": {},
   "outputs": [],
   "source": []
  }
 ],
 "metadata": {
  "kernelspec": {
   "display_name": "Python 3",
   "language": "python",
   "name": "python3"
  },
  "language_info": {
   "codemirror_mode": {
    "name": "ipython",
    "version": 3
   },
   "file_extension": ".py",
   "mimetype": "text/x-python",
   "name": "python",
   "nbconvert_exporter": "python",
   "pygments_lexer": "ipython3",
   "version": "3.7.1"
  }
 },
 "nbformat": 4,
 "nbformat_minor": 2
}
