{
 "cells": [
  {
   "cell_type": "code",
   "execution_count": 1,
   "metadata": {},
   "outputs": [],
   "source": [
    "import bs4 as bs\n",
    "import textblob\n",
    "import matplotlib.pyplot as plt\n",
    "import seaborn as sns\n",
    "import re\n",
    "import urllib.request"
   ]
  },
  {
   "cell_type": "code",
   "execution_count": 4,
   "metadata": {},
   "outputs": [
    {
     "name": "stdout",
     "output_type": "stream",
     "text": [
      "<title>\n",
      "                Coffee prices seen rising nearly 25 percent by year-end: Reuters poll - Reuters</title>\n"
     ]
    }
   ],
   "source": [
    "source = urllib.request.urlopen('https://www.reuters.com/article/us-global-coffee-poll/coffee-prices-seen-rising-nearly-25-percent-by-year-end-reuters-poll-idUSKCN1Q11JD').read()\n",
    "soup = bs.BeautifulSoup(source,'lxml')\n",
    "# title of the page\n",
    "print(soup.title)"
   ]
  },
  {
   "cell_type": "code",
   "execution_count": 5,
   "metadata": {},
   "outputs": [
    {
     "name": "stdout",
     "output_type": "stream",
     "text": [
      "3 Min Read\n",
      "NEW YORK (Reuters) - Arabica coffee prices will rise nearly 20 percent by the end of 2019 as Brazil’s shift to an off-year in its biennial production cycle helps swing the world into a global deficit, a Reuters poll of nine traders and analysts showed on Tuesday. \n",
      "The survey participants anticipate a global deficit of 1 million 60-kg bags in 2019/20, according to the median forecast, compared to estimates of a 4.25 million-bag surplus for 2018/19.  \n",
      "Tightening global supplies in the coming season are expected to lift arabica prices to $1.25 per pound by the end of 2019, 24.8 percent above Monday’s close. \n",
      "“Arabica prices should find some support by the fact that 2019/20 is set to be an ‘off year’ output in Brazil,” said Caroline Bain, analyst at Capital Economics.  \n",
      "Respondents expect the 2019/20 crop for top producer Brazil at a median 55 million bags, little changed from previous forecasts.  \n",
      "This represents a decline of about 8.3 percent from the record 2018/19 crop, whose massive size helped push arabica prices to a nearly 13-year low of 92 cents per lb on Sept. 18.  Prices have since languished near those levels, which are far below the cost of production in many countries. This has forced some growers to invest less in their farms, which, one analyst said, would start translating to diminished global output in 2019/20. \n",
      "The performance of the Brazilian real is also expected to continue influencing arabica futures.  \n",
      "Arabica prices firmed alongside the real in the weeks before the Brazilian presidential election in October, and continue to track the currency’s performance. A stronger real can discourage producer selling of dollar-denominated commodities like coffee.  \n",
      "Analysts are also keeping a close eye on Brazilian policy, especially the potential for new minimum purchase prices or safety nets for the country’s coffee farmers. Such mechanisms “could help support the market and also remove exportable supplies from the world market,” said Shawn Hackett, president of Hackett Financial Advisors. \n",
      "The overall outlook is somewhat similar for robusta beans, primarily used for instant coffee or added to blends as a cheaper ingredient. Robusta prices are expected to rise to $1,775 per tonne by the end of 2019, a 16 percent increase from Monday’s close, according to the poll. \n",
      "Production in Vietnam, the world’s biggest grower of the varietal, was pegged at 29.75 million bags in 2019/20, largely on par with production estimates for 2018/19. \n",
      "“Demand should be more than enough to absorb high robusta output, as the market for instant coffee expands into emerging markets,” said Bain of Capital Economics. \n",
      "Reporting by Ayenat Mersie; Editing by Sandra Maler\n",
      "All quotes delayed a minimum of 15 minutes. See here for a complete list of exchanges and delays.\n",
      "© 2019 Reuters. All Rights Reserved.\n"
     ]
    }
   ],
   "source": [
    "for Pr in soup.find_all('p'):\n",
    "    # print(paragraph.string)\n",
    "    Pr = str(Pr.text)\n",
    "    print(Pr)"
   ]
  },
  {
   "cell_type": "code",
   "execution_count": null,
   "metadata": {},
   "outputs": [],
   "source": []
  },
  {
   "cell_type": "code",
   "execution_count": null,
   "metadata": {},
   "outputs": [],
   "source": []
  },
  {
   "cell_type": "code",
   "execution_count": null,
   "metadata": {},
   "outputs": [],
   "source": []
  }
 ],
 "metadata": {
  "kernelspec": {
   "display_name": "Python 3",
   "language": "python",
   "name": "python3"
  },
  "language_info": {
   "codemirror_mode": {
    "name": "ipython",
    "version": 3
   },
   "file_extension": ".py",
   "mimetype": "text/x-python",
   "name": "python",
   "nbconvert_exporter": "python",
   "pygments_lexer": "ipython3",
   "version": "3.7.1"
  }
 },
 "nbformat": 4,
 "nbformat_minor": 2
}
